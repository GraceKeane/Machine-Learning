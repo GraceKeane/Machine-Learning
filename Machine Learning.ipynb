{
 "cells": [
  {
   "cell_type": "code",
   "execution_count": 1,
   "metadata": {},
   "outputs": [],
   "source": [
    "\"\"\"\n",
    "Imports needed to run code [1]\n",
    "\"\"\"\n",
    "\n",
    "# Numerical arrays\n",
    "import sklearn.cluster as skcl\n",
    "# Machine learning - Kmeans\n",
    "import numpy as np\n",
    "# Plotting\n",
    "import matplotlib.pyplot as plt\n"
   ]
  },
  {
   "cell_type": "code",
   "execution_count": 2,
   "metadata": {},
   "outputs": [],
   "source": [
    "\n",
    "\"\"\"\n",
    "Using scikit-learn to apply k-means  to fishers iris data set [1]\n",
    "\"\"\"\n",
    "\n",
    "# Data set\n",
    "dataSet = np.array([[1, 2], [1, 4], [1, 0], [10, 2], [10, 4], [10, 0]])"
   ]
  },
  {
   "cell_type": "code",
   "execution_count": 3,
   "metadata": {},
   "outputs": [
    {
     "data": {
      "text/plain": [
       "(-2.0, 6.0)"
      ]
     },
     "execution_count": 3,
     "metadata": {},
     "output_type": "execute_result"
    },
    {
     "data": {
      "image/png": "[encoded data removed]",
      "text/plain": [
       "<Figure size 432x288 with 1 Axes>"
      ]
     },
     "metadata": {
      "needs_background": "light"
     },
     "output_type": "display_data"
    }
   ],
   "source": [
    "\n",
    "\n",
    "\"\"\"\n",
    "Plotting the data set and setting resonable limits\n",
    "\"\"\"\n",
    "plt.plot(dataSet[:,0], dataSet[:,1], 'x')\n",
    "# Initializing start and finish y-axis value\n",
    "plt.xlim([-2, 14])\n",
    "# Initializing start and finish x-axis value\n",
    "plt.ylim([-2, 6])"
   ]
  },
  {
   "cell_type": "code",
   "execution_count": 4,
   "metadata": {},
   "outputs": [],
   "source": [
    "# Compute kmeans clustering [2] \n",
    "# Taking in number of clusters, random state and .fir to compute cluster\n",
    "kmeans = skcl.KMeans(n_clusters=2, random_state=0).fit(dataSet)"
   ]
  },
  {
   "cell_type": "code",
   "execution_count": 5,
   "metadata": {},
   "outputs": [
    {
     "data": {
      "text/plain": [
       "array([1, 1, 1, 0, 0, 0])"
      ]
     },
     "execution_count": 5,
     "metadata": {},
     "output_type": "execute_result"
    }
   ],
   "source": [
    "# See the labels of the points\n",
    "kmeans.labels_"
   ]
  },
  {
   "cell_type": "code",
   "execution_count": 6,
   "metadata": {},
   "outputs": [
    {
     "data": {
      "text/plain": [
       "(-2.0, 6.0)"
      ]
     },
     "execution_count": 6,
     "metadata": {},
     "output_type": "execute_result"
    },
    {
     "data": {
      "image/png": "[encoded data removed]",
      "text/plain": [
       "<Figure size 432x288 with 1 Axes>"
      ]
     },
     "metadata": {
      "needs_background": "light"
     },
     "output_type": "display_data"
    }
   ],
   "source": [
    "# plotting similar data in the same color\n",
    "plt.plot(dataSet[kmeans.labels_ == 0][:,0], dataSet[kmeans.labels_ == 0][:,1], 'rx')\n",
    "plt.plot(dataSet[kmeans.labels_ == 1][:,0], dataSet[kmeans.labels_ == 1][:,1], 'bx')\n",
    "# Set reasonable limits\n",
    "plt.xlim([-2, 14])\n",
    "plt.ylim([-2, 6])"
   ]
  },
  {
   "cell_type": "code",
   "execution_count": 7,
   "metadata": {},
   "outputs": [
    {
     "data": {
      "text/plain": [
       "array([1, 0])"
      ]
     },
     "execution_count": 7,
     "metadata": {},
     "output_type": "execute_result"
    }
   ],
   "source": [
    "# Predict the cluster for two points\n",
    "newvals = np.array([[0, 0], [12, 3]])\n",
    "predictions = kmeans.predict(newvals)\n",
    "predictions"
   ]
  },
  {
   "cell_type": "code",
   "execution_count": 8,
   "metadata": {},
   "outputs": [
    {
     "data": {
      "text/plain": [
       "(-2.0, 6.0)"
      ]
     },
     "execution_count": 8,
     "metadata": {},
     "output_type": "execute_result"
    },
    {
     "data": {
      "image/png": "[encoded data removed]",
      "text/plain": [
       "<Figure size 432x288 with 1 Axes>"
      ]
     },
     "metadata": {
      "needs_background": "light"
     },
     "output_type": "display_data"
    }
   ],
   "source": [
    "\"\"\"\n",
    "Plotting prediction data but without plotting relative clusters in the same color (green dot)\n",
    "\"\"\"\n",
    "# plotting similar data in the same color\n",
    "plt.plot(dataSet[kmeans.labels_ == 0][:,0], dataSet[kmeans.labels_ == 0][:,1], 'rx')\n",
    "plt.plot(dataSet[kmeans.labels_ == 1][:,0], dataSet[kmeans.labels_ == 1][:,1], 'bx')\n",
    "# Plotting predictions\n",
    "plt.plot(newvals[:,0], newvals[:,1], 'go')\n",
    "# Set reasonable limits\n",
    "plt.xlim([-2, 14])\n",
    "plt.ylim([-2, 6])\n"
   ]
  },
  {
   "cell_type": "code",
   "execution_count": 9,
   "metadata": {},
   "outputs": [
    {
     "data": {
      "text/plain": [
       "(-2.0, 6.0)"
      ]
     },
     "execution_count": 9,
     "metadata": {},
     "output_type": "execute_result"
    },
    {
     "data": {
      "image/png": "[encoded data removed]",
      "text/plain": [
       "<Figure size 432x288 with 1 Axes>"
      ]
     },
     "metadata": {
      "needs_background": "light"
     },
     "output_type": "display_data"
    }
   ],
   "source": [
    "\"\"\"\n",
    "Plotting similar data in the same color as cluster\n",
    "\"\"\"\n",
    "plt.plot(dataSet[kmeans.labels_ == 0][:,0], dataSet[kmeans.labels_ == 0][:,1], 'rx')\n",
    "plt.plot(dataSet[kmeans.labels_ == 1][:,0], dataSet[kmeans.labels_ == 1][:,1], 'bx')\n",
    "# Plotting predictions\n",
    "plt.plot(newvals[predictions == 0][:,0], newvals[predictions == 0][:,1], 'ro')\n",
    "plt.plot(newvals[predictions == 1][:,0], newvals[predictions == 1][:,1], 'bo')\n",
    "# Set reasonable limits\n",
    "plt.xlim([-2, 14])\n",
    "plt.ylim([-2, 6])"
   ]
  },
  {
   "cell_type": "code",
   "execution_count": 10,
   "metadata": {},
   "outputs": [
    {
     "data": {
      "text/plain": [
       "array([[10.,  2.],\n",
       "       [ 1.,  2.]])"
      ]
     },
     "execution_count": 10,
     "metadata": {},
     "output_type": "execute_result"
    }
   ],
   "source": [
    "# Center points of the clusters\n",
    "centerPoints = kmeans.cluster_centers_\n",
    "centerPoints"
   ]
  },
  {
   "cell_type": "code",
   "execution_count": 11,
   "metadata": {},
   "outputs": [
    {
     "data": {
      "text/plain": [
       "(-2.0, 6.0)"
      ]
     },
     "execution_count": 11,
     "metadata": {},
     "output_type": "execute_result"
    },
    {
     "data": {
      "image/png": "[encoded data removed]",
      "text/plain": [
       "<Figure size 432x288 with 1 Axes>"
      ]
     },
     "metadata": {
      "needs_background": "light"
     },
     "output_type": "display_data"
    }
   ],
   "source": [
    "\"\"\"\n",
    "Plotting cluster centers\n",
    "\"\"\"\n",
    "plt.plot(dataSet[kmeans.labels_ == 0][:,0], dataSet[kmeans.labels_ == 0][:,1], 'rx')\n",
    "plt.plot(dataSet[kmeans.labels_ == 1][:,0], dataSet[kmeans.labels_ == 1][:,1], 'bx')\n",
    "# Plotting predictions\n",
    "plt.plot(newvals[predictions == 0][:,0], newvals[predictions == 0][:,1], 'ro')\n",
    "plt.plot(newvals[predictions == 1][:,0], newvals[predictions == 1][:,1], 'bo')\n",
    "# Plotting center points (0 versus 1)\n",
    "plt.plot(centerPoints[:,0], centerPoints[:,1], 'k.')\n",
    "# Set reasonable limits\n",
    "plt.xlim([-2, 14])\n",
    "plt.ylim([-2, 6])\n"
   ]
  },
  {
   "cell_type": "markdown",
   "metadata": {},
   "source": [
    "\n",
    "##### Referances\n",
    "\n",
    "[1] Scikit learn; Examples;\n",
    "\n",
    "https://scikit-learn.org/stable/modules/generated/sklearn.cluster.KMeans.html#sklearn.cluster.KMeans\n",
    "\n",
    "[2] Scikit learn; Methods;\n",
    "\n",
    "https://scikit-learn.org/stable/modules/generated/sklearn.cluster.KMeans.html#sklearn.cluster.KMeans\n",
    "\n",
    "[3] Microsoft Stream; KMeans Clustering;\n",
    "\n",
    "https://web.microsoftstream.com/video/0685eed2-2dd6-490b-b6fc-cda8391f1db7?referrer=https://learnonline.gmit.ie/\n",
    "\n"
   ]
  }
 ],
 "metadata": {
  "kernelspec": {
   "display_name": "Python 3",
   "language": "python",
   "name": "python3"
  },
  "language_info": {
   "codemirror_mode": {
    "name": "ipython",
    "version": 3
   },
   "file_extension": ".py",
   "mimetype": "text/x-python",
   "name": "python",
   "nbconvert_exporter": "python",
   "pygments_lexer": "ipython3",
   "version": "3.8.3"
  }
 },
 "nbformat": 4,
 "nbformat_minor": 4
}
